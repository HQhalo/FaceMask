{
  "nbformat": 4,
  "nbformat_minor": 0,
  "metadata": {
    "colab": {
      "name": "Flask API.ipynb",
      "provenance": [],
      "collapsed_sections": []
    },
    "kernelspec": {
      "name": "python3",
      "display_name": "Python 3"
    },
    "accelerator": "GPU"
  },
  "cells": [
    {
      "cell_type": "code",
      "metadata": {
        "id": "IGE_Q5RSwIuS",
        "outputId": "f0059b2c-bbd3-40ff-8fa2-d0be62f6e1f7",
        "colab": {
          "base_uri": "https://localhost:8080/",
          "height": 122
        }
      },
      "source": [
        "from google.colab import drive\n",
        "drive.mount(\"/content/drive\")"
      ],
      "execution_count": null,
      "outputs": [
        {
          "output_type": "stream",
          "text": [
            "Go to this URL in a browser: https://accounts.google.com/o/oauth2/auth?client_id=947318989803-6bn6qk8qdgf4n4g3pfee6491hc0brc4i.apps.googleusercontent.com&redirect_uri=urn%3aietf%3awg%3aoauth%3a2.0%3aoob&scope=email%20https%3a%2f%2fwww.googleapis.com%2fauth%2fdocs.test%20https%3a%2f%2fwww.googleapis.com%2fauth%2fdrive%20https%3a%2f%2fwww.googleapis.com%2fauth%2fdrive.photos.readonly%20https%3a%2f%2fwww.googleapis.com%2fauth%2fpeopleapi.readonly&response_type=code\n",
            "\n",
            "Enter your authorization code:\n",
            "··········\n",
            "Mounted at /content/drive\n"
          ],
          "name": "stdout"
        }
      ]
    },
    {
      "cell_type": "code",
      "metadata": {
        "id": "b2piwhImwJer",
        "outputId": "636fde1e-c076-4cec-f5aa-61b421f35ae2",
        "colab": {
          "base_uri": "https://localhost:8080/",
          "height": 119
        }
      },
      "source": [
        "!git clone https://github.com/ultralytics/yolov3  # clone\n",
        "%cd yolov3"
      ],
      "execution_count": null,
      "outputs": [
        {
          "output_type": "stream",
          "text": [
            "Cloning into 'yolov3'...\n",
            "remote: Enumerating objects: 9437, done.\u001b[K\n",
            "remote: Total 9437 (delta 0), reused 0 (delta 0), pack-reused 9437\u001b[K\n",
            "Receiving objects: 100% (9437/9437), 7.80 MiB | 19.16 MiB/s, done.\n",
            "Resolving deltas: 100% (6471/6471), done.\n",
            "/content/yolov3\n"
          ],
          "name": "stdout"
        }
      ]
    },
    {
      "cell_type": "code",
      "metadata": {
        "id": "UcGJ45AhwNd1",
        "outputId": "e66dee7c-f976-4961-b46e-026f19305dab",
        "colab": {
          "base_uri": "https://localhost:8080/",
          "height": 445
        }
      },
      "source": [
        "!pip install jsonpickle flask_cors flask pyngrok"
      ],
      "execution_count": null,
      "outputs": [
        {
          "output_type": "stream",
          "text": [
            "Collecting jsonpickle\n",
            "  Downloading https://files.pythonhosted.org/packages/af/ca/4fee219cc4113a5635e348ad951cf8a2e47fed2e3342312493f5b73d0007/jsonpickle-1.4.1-py2.py3-none-any.whl\n",
            "Collecting flask_cors\n",
            "  Downloading https://files.pythonhosted.org/packages/78/38/e68b11daa5d613e3a91e4bf3da76c94ac9ee0d9cd515af9c1ab80d36f709/Flask_Cors-3.0.8-py2.py3-none-any.whl\n",
            "Requirement already satisfied: flask in /usr/local/lib/python3.6/dist-packages (1.1.2)\n",
            "Collecting pyngrok\n",
            "  Downloading https://files.pythonhosted.org/packages/05/4a/d16a3337672b5ca3ce5d67be9d26a62aecd4479785099b0a8ad40167e115/pyngrok-4.1.10.tar.gz\n",
            "Requirement already satisfied: importlib-metadata in /usr/local/lib/python3.6/dist-packages (from jsonpickle) (1.7.0)\n",
            "Requirement already satisfied: Six in /usr/local/lib/python3.6/dist-packages (from flask_cors) (1.15.0)\n",
            "Requirement already satisfied: itsdangerous>=0.24 in /usr/local/lib/python3.6/dist-packages (from flask) (1.1.0)\n",
            "Requirement already satisfied: click>=5.1 in /usr/local/lib/python3.6/dist-packages (from flask) (7.1.2)\n",
            "Requirement already satisfied: Werkzeug>=0.15 in /usr/local/lib/python3.6/dist-packages (from flask) (1.0.1)\n",
            "Requirement already satisfied: Jinja2>=2.10.1 in /usr/local/lib/python3.6/dist-packages (from flask) (2.11.2)\n",
            "Requirement already satisfied: future in /usr/local/lib/python3.6/dist-packages (from pyngrok) (0.16.0)\n",
            "Requirement already satisfied: PyYAML in /usr/local/lib/python3.6/dist-packages (from pyngrok) (3.13)\n",
            "Requirement already satisfied: zipp>=0.5 in /usr/local/lib/python3.6/dist-packages (from importlib-metadata->jsonpickle) (3.1.0)\n",
            "Requirement already satisfied: MarkupSafe>=0.23 in /usr/local/lib/python3.6/dist-packages (from Jinja2>=2.10.1->flask) (1.1.1)\n",
            "Building wheels for collected packages: pyngrok\n",
            "  Building wheel for pyngrok (setup.py) ... \u001b[?25l\u001b[?25hdone\n",
            "  Created wheel for pyngrok: filename=pyngrok-4.1.10-cp36-none-any.whl size=16377 sha256=44e745e17cd492abadbf85cdde8742cf666a0d5724718648cfd3baef98ce81f9\n",
            "  Stored in directory: /root/.cache/pip/wheels/0d/7f/06/e8079dd6f80eb6683fac47c4e1cb720b61cd82d6e4c13d87a5\n",
            "Successfully built pyngrok\n",
            "Installing collected packages: jsonpickle, flask-cors, pyngrok\n",
            "Successfully installed flask-cors-3.0.8 jsonpickle-1.4.1 pyngrok-4.1.10\n"
          ],
          "name": "stdout"
        }
      ]
    },
    {
      "cell_type": "code",
      "metadata": {
        "id": "X1uEcHttwQ_e"
      },
      "source": [
        "!cp  \"/content/drive/My Drive/File/dataset/MedicalMaskYolo_jpg.zip\" \"/content\"\n",
        "!cp \"/content/drive/My Drive/File/WeightYolov3/medicalMask_v0.2.pt\" \"/content/yolov3/weights\"\n",
        "%cd /content/\n",
        "!unzip MedicalMaskYolo_jpg.zip"
      ],
      "execution_count": null,
      "outputs": []
    },
    {
      "cell_type": "code",
      "metadata": {
        "id": "QA75KCvzwXLT",
        "outputId": "08650a11-f748-433c-d5de-1b8a78d706e1",
        "colab": {
          "base_uri": "https://localhost:8080/",
          "height": 34
        }
      },
      "source": [
        "%cd /content/yolov3\n",
        "import argparse\n",
        "from sys import platform\n",
        "\n",
        "from models import * \n",
        "from utils.datasets import *\n",
        "from utils.utils import *\n",
        "import json\n",
        "\n",
        "class Predict:\n",
        "    def __init__(self,cfg \n",
        "                ,names \n",
        "                ,weights \n",
        "                ,imgSize    = 512\n",
        "                ,confThres  = 0.3\n",
        "                ,iouThres   = 0.6):\n",
        "        self.device = 'cuda:0' if torch.cuda.is_available() else 'cpu'\n",
        "        print(\"[DEVICE] \"+self.device)\n",
        "        self.imgSize = imgSize\n",
        "        self.confThres = confThres\n",
        "        self.iouThres = iouThres\n",
        "        #Initialize model\n",
        "        self.model = Darknet(cfg, imgSize)\n",
        "        \n",
        "        #load Weights\n",
        "        attempt_download(weights)\n",
        "        if weights.endswith('.pt'):  # pytorch format\n",
        "            self.model.load_state_dict(torch.load(weights, map_location=self.device)['model'])\n",
        "        else:  # darknet format\n",
        "            load_darknet_weights(self.model, weights)\n",
        "        self.model.to(self.device).eval()\n",
        "\n",
        "        #load label \n",
        "        self.names = load_classes(names)\n",
        "        random.seed(3)\n",
        "        self.colors = [[random.randint(0, 255) for _ in range(3)] for _ in range(len(self.names))]\n",
        "    \n",
        "    def get_predict(self,image):\n",
        "        print(image.shape)\n",
        "        drawing_array = np.zeros([512,512,4], dtype=np.uint8)\n",
        "        img = letterbox(image, new_shape=self.imgSize)[0]\n",
        "        img = img.transpose(2, 0, 1)\n",
        "        img = np.ascontiguousarray(img)\n",
        "\n",
        "        img = torch.from_numpy(img).to(self.device)\n",
        "        img = img.float()  # uint8 to fp16/32\n",
        "        img /= 255.0  # (0 - 255) to (0.0 - 1.0)\n",
        "        if img.ndimension() == 3:\n",
        "            img = img.unsqueeze(0)\n",
        "        \n",
        "        pred = self.model(img)[0]\n",
        "        \n",
        "        pred = non_max_suppression(pred, self.confThres, self.iouThres)\n",
        "        det = pred[0]\n",
        "\n",
        "        rel = []\n",
        "\n",
        "        if det is not None and len(det):\n",
        "            det[:, :4] = scale_coords(img.shape[2:], det[:, :4], image.shape).round()\n",
        "            \n",
        "            # Write results\n",
        "            for *xyxy, conf, cls in det:\n",
        "                temp = {'boxes': [int(xyxy[0]),int(xyxy[1]),int(xyxy[2]),int(xyxy[3])]}\n",
        "                temp[\"label\"] = str(self.names[int(cls)])\n",
        "                temp['color'] = self.colors[int(cls)]\n",
        "                temp['confidence'] = round(float(conf),2)\n",
        "                rel.append(temp)\n",
        "                \n",
        "        print(\"[INFO]\",end= str(rel))\n",
        "        print(\"\")\n",
        "        return json.dumps(rel)"
      ],
      "execution_count": null,
      "outputs": [
        {
          "output_type": "stream",
          "text": [
            "/content/yolov3\n"
          ],
          "name": "stdout"
        }
      ]
    },
    {
      "cell_type": "code",
      "metadata": {
        "id": "_1sacjPvZZpC",
        "outputId": "ccf9d463-4d52-45de-fcb8-c6b08740300b",
        "colab": {
          "base_uri": "https://localhost:8080/",
          "height": 34
        }
      },
      "source": [
        "! ngrok authtoken 1frvcIStPu9E6VWWZUu7CZqXrqt_3owDWAZTUURPnixxxxxx"
      ],
      "execution_count": null,
      "outputs": [
        {
          "output_type": "stream",
          "text": [
            "Authtoken saved to configuration file: /root/.ngrok2/ngrok.yml\n"
          ],
          "name": "stdout"
        }
      ]
    },
    {
      "cell_type": "code",
      "metadata": {
        "id": "4Hgt7BIu17m2"
      },
      "source": [
        "# from google.colab.output import eval_js\n",
        "# print(eval_js(\"google.colab.kernel.proxyPort(5000)\"))"
      ],
      "execution_count": null,
      "outputs": []
    },
    {
      "cell_type": "code",
      "metadata": {
        "id": "DDQY3we9wngd"
      },
      "source": [
        "from pyngrok import ngrok\n",
        "import numpy as np\n",
        "import argparse\n",
        "import time\n",
        "import cv2\n",
        "import os\n",
        "from flask import Flask, request, Response, jsonify\n",
        "import jsonpickle\n",
        "import json\n",
        "#import binascii\n",
        "import io as StringIO\n",
        "import base64\n",
        "from io import BytesIO\n",
        "import io\n",
        "from PIL import Image\n",
        "from flask_cors import CORS\n",
        "from flask import *\n",
        "# construct the argument parse and parse the arguments\n",
        "\n",
        "myModel = Predict(cfg       = \"/content/MedicalMaskYolo/yolov3-mask-spp.cfg\" ,\n",
        "                  names     = '/content/MedicalMaskYolo/obj.names'\n",
        "                  ,weights  = '/content/yolov3/weights/medicalMask_v0.2.pt')\n",
        "\n",
        "yoloModel = Predict(cfg     = \"/content/yolov3/cfg/yolov3-spp.cfg\",\n",
        "                    names   = \"/content/yolov3/data/coco.names\",\n",
        "                    weights = \"/content/yolov3/weights/yolov3-spp.pt\")\n",
        "\n",
        "# Initialize the Flask application\n",
        "app = Flask(__name__)\n",
        "CORS(app)\n",
        "public_url = ngrok.connect(port = '5000')\n",
        "print(public_url)\n",
        "@app.route(\"/get-video/<video_name>\")\n",
        "def get_image(video_name):\n",
        "  return send_from_directory(\"/content/\",video_name, conditional=True)\n",
        "\n",
        "@app.route('/')\n",
        "def getst():\n",
        "  return public_url\n",
        "@app.route('/api/test', methods=['POST'])\n",
        "def main():\n",
        "    args = request.args\n",
        "    if args:\n",
        "      if 'confThres' in args:\n",
        "        myModel.confThres = float(args[\"confThres\"])\n",
        "    print(myModel.confThres)\n",
        "\n",
        "    img = request.files[\"image\"].read()\n",
        "    img = Image.open(io.BytesIO(img))\n",
        "    npimg=np.array(img)\n",
        "    image=npimg.copy()\n",
        "    image=cv2.cvtColor(image,cv2.COLOR_BGR2RGB)\n",
        "    \n",
        "    start = time.time()\n",
        "    boxs = myModel.get_predict(image)\n",
        "    end = time.time()\n",
        "    print(\"[INFO] model take: {:.6f} seconds\".format(end - start))\n",
        "    response = app.response_class(\n",
        "        response=boxs,\n",
        "        status=200,\n",
        "        mimetype='application/json'\n",
        "    )\n",
        "    return response\n",
        "    \n",
        "    # start flask app\n",
        "@app.route('/api/yolo', methods=['POST'])\n",
        "def yoloDetect():\n",
        "    img = request.files[\"image\"].read()\n",
        "    img = Image.open(io.BytesIO(img))\n",
        "    npimg=np.array(img)\n",
        "    image=npimg.copy()\n",
        "    image=cv2.cvtColor(image,cv2.COLOR_BGR2RGB)\n",
        "    \n",
        "    start = time.time()\n",
        "    boxs = yoloModel.get_predict(image)\n",
        "    end = time.time()\n",
        "    print(\"[INFO] model take: {:.6f} seconds\".format(end - start))\n",
        "    response = app.response_class(\n",
        "        response=boxs,\n",
        "        status=200,\n",
        "        mimetype='application/json'\n",
        "    )\n",
        "    return response\n",
        "print(\"[INFO] run app\")\n",
        "app.run()\n"
      ],
      "execution_count": null,
      "outputs": []
    },
    {
      "cell_type": "code",
      "metadata": {
        "id": "WEISDT-KHkX1"
      },
      "source": [
        ""
      ],
      "execution_count": null,
      "outputs": []
    }
  ]
}